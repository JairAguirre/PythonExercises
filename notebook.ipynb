{
 "cells": [
  {
   "cell_type": "code",
   "execution_count": 3,
   "metadata": {},
   "outputs": [
    {
     "name": "stdout",
     "output_type": "stream",
     "text": [
      "20\n"
     ]
    }
   ],
   "source": [
    "\"\"\"safety deposit boxes\"\"\"\n",
    "def finder(listacajas, objetoBuscado):\n",
    "    time =5 \n",
    "    for x in listacajas:\n",
    "        if(objetoBuscado == x):\n",
    "            return time\n",
    "        else:\n",
    "            time += 5\n",
    "    return time\n",
    "\n",
    "lista = [\"gold\",\"silver\",\"jewels\", \"re\", \"trg\"]\n",
    "bus = \"re\"\n",
    "print(finder(lista, bus))\n"
   ]
  },
  {
   "cell_type": "code",
   "execution_count": 7,
   "metadata": {},
   "outputs": [
    {
     "name": "stdout",
     "output_type": "stream",
     "text": [
      "Pop Snap Crackle Snap Crackle Pop \n"
     ]
    }
   ],
   "source": [
    "\"\"\"Snap, Crackle, POP\"\"\"\n",
    "\n",
    "def verify(x):\n",
    "    sound = \"Crackle\"\n",
    "    three = x%3\n",
    "    parInpar = x%2\n",
    "    if(three== 0):\n",
    "        sound = \"Pop\"\n",
    "    elif(parInpar != 0):\n",
    "        sound = \"Snap\"\n",
    "    return sound\n",
    "\n",
    "a = 18\n",
    "b= 5\n",
    "c= 100\n",
    "d= 25\n",
    "e = 40\n",
    "f= 24\n",
    "\n",
    "listx = [a,b,c,d,e,f]\n",
    "\n",
    "resultlist = list(map(verify,listx))\n",
    "\n",
    "res = \"\"\n",
    "for x in resultlist:\n",
    "    res+=x+\" \"\n",
    "print(res)"
   ]
  },
  {
   "cell_type": "code",
   "execution_count": 11,
   "metadata": {},
   "outputs": [
    {
     "name": "stdout",
     "output_type": "stream",
     "text": [
      "[18, 5, 100, 25, 40, 24]\n",
      "Pop SnapCrackle SnapCrackle Pop \n"
     ]
    }
   ],
   "source": [
    "\"\"\"Snap, Crackle, POP v.2\"\"\" \n",
    "\n",
    "listx = []\n",
    "\n",
    "for x in range(0,6):\n",
    "    a = int(input())\n",
    "    listx.append(a)\n",
    "print(listx)\n",
    "\n",
    "finalams = \"\"\n",
    "\n",
    "for x in listx:\n",
    "    if(x%3==0):\n",
    "        finalams+=\"Pop \"\n",
    "    elif(x%2 ==0):\n",
    "        finalams+=\"Crackle \"\n",
    "    else:\n",
    "        finalams+= \"Snap \"\n",
    "print(finalams)"
   ]
  }
 ],
 "metadata": {
  "kernelspec": {
   "display_name": "Python 3",
   "language": "python",
   "name": "python3"
  },
  "language_info": {
   "codemirror_mode": {
    "name": "ipython",
    "version": 3
   },
   "file_extension": ".py",
   "mimetype": "text/x-python",
   "name": "python",
   "nbconvert_exporter": "python",
   "pygments_lexer": "ipython3",
   "version": "3.10.8"
  },
  "orig_nbformat": 4
 },
 "nbformat": 4,
 "nbformat_minor": 2
}
